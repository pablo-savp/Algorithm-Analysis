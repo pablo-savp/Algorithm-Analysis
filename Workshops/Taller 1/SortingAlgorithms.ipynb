{
 "cells": [
  {
   "cell_type": "code",
   "execution_count": 37,
   "id": "87d9328c",
   "metadata": {},
   "outputs": [
    {
     "data": {
      "text/plain": [
       "[1, 3, 4, 5, 6, 7, 8, 9, 10, 11, 12]"
      ]
     },
     "execution_count": 37,
     "metadata": {},
     "output_type": "execute_result"
    }
   ],
   "source": [
    "#Algoritmo burbuja estándar.\n",
    "def bubbleSort(arr):\n",
    "    for i in range(len(arr)): \n",
    "        for j in range(len(arr)-1):\n",
    "            \n",
    "            if arr[j+1]<arr[j]:\n",
    "                aux = arr[j]\n",
    "                arr[j] = arr[j+1]\n",
    "                arr[j+1]=aux\n",
    "  \n",
    "    return arr\n",
    "            \n",
    "arr = [1,7,6,8,4,3,9,11,5,12,10]\n",
    "bubbleSort(arr)    "
   ]
  },
  {
   "cell_type": "code",
   "execution_count": 38,
   "id": "4ce03dda",
   "metadata": {},
   "outputs": [
    {
     "data": {
      "text/plain": [
       "[1, 3, 4, 5, 6, 7, 8, 9, 10, 11, 12]"
      ]
     },
     "execution_count": 38,
     "metadata": {},
     "output_type": "execute_result"
    }
   ],
   "source": [
    "#Algoritmo burbuja mejorado.\n",
    "def betterBubbleSort(arr):\n",
    "    for i in range(len(arr)): \n",
    "        for j in range(0,len(arr)-1-i):\n",
    "            \n",
    "            if arr[j+1]<arr[j]:\n",
    "                aux = arr[j]\n",
    "                arr[j] = arr[j+1]\n",
    "                arr[j+1]=aux\n",
    "  \n",
    "    return arr\n",
    "            \n",
    "arr = [1,7,6,8,4,3,9,11,5,12,10]\n",
    "betterBubbleSort(arr)  "
   ]
  },
  {
   "cell_type": "code",
   "execution_count": 14,
   "id": "6348bfc3",
   "metadata": {},
   "outputs": [
    {
     "data": {
      "text/plain": [
       "[1, 3, 4, 5, 6, 7, 8, 9, 10, 11, 12]"
      ]
     },
     "execution_count": 14,
     "metadata": {},
     "output_type": "execute_result"
    }
   ],
   "source": [
    "#Algoritmo de Inserción\n",
    "def insertionSort(arr):\n",
    "    for i in range(1,len(arr)): \n",
    "        k = arr[i]\n",
    "        j = i-1\n",
    "        while j>0 and arr[j]>k:\n",
    "            arr[j+1]=arr[j]\n",
    "            j = j-1\n",
    "        \n",
    "        arr[j+1]=k\n",
    "            \n",
    "    return arr\n",
    "            \n",
    "arr = [1,7,6,8,4,3,9,11,5,12,10]\n",
    "insertionSort(arr)  \n"
   ]
  },
  {
   "cell_type": "code",
   "execution_count": 9,
   "id": "0093f50a",
   "metadata": {},
   "outputs": [
    {
     "name": "stdout",
     "output_type": "stream",
     "text": [
      "Algoritmo BubbleSort\n"
     ]
    },
    {
     "data": {
      "text/plain": [
       "423.1397217"
      ]
     },
     "execution_count": 9,
     "metadata": {},
     "output_type": "execute_result"
    }
   ],
   "source": [
    "#Comparacion experimental\n",
    "import timeit\n",
    "    \n",
    "#1. Tiempo de ejecución de los 3 algoritmos con n=30000\n",
    "\n",
    "#a. Algoritmo BubbleSort\n",
    "stmt = '''\n",
    "import numpy as np\n",
    "arr = np.random.randint(1,30001,30000)\n",
    "bubbleSort(arr)\n",
    "'''\n",
    "setup = '''\n",
    "def bubbleSort(arr):\n",
    "    for i in range(len(arr)): \n",
    "        for j in range(len(arr)-1):\n",
    "            \n",
    "            if arr[j+1]<arr[j]:\n",
    "                aux = arr[j]\n",
    "                arr[j] = arr[j+1]\n",
    "                arr[j+1]=aux\n",
    "  \n",
    "    return arr\n",
    "'''\n",
    "print(\"Algoritmo BubbleSort\")\n",
    "timeit.timeit(stmt,setup,number=1)"
   ]
  },
  {
   "cell_type": "code",
   "execution_count": 11,
   "id": "5300d025",
   "metadata": {},
   "outputs": [
    {
     "name": "stdout",
     "output_type": "stream",
     "text": [
      "Algoritmo BubbleSort Mejorado\n"
     ]
    },
    {
     "data": {
      "text/plain": [
       "277.61102289999985"
      ]
     },
     "execution_count": 11,
     "metadata": {},
     "output_type": "execute_result"
    }
   ],
   "source": [
    "#b. Algoritmo BubbleSort Mejorado\n",
    "stmt2 = '''\n",
    "import numpy as np\n",
    "arr = np.random.randint(1,30001,30000)\n",
    "betterBubbleSort(arr)\n",
    "'''\n",
    "setup2 = '''\n",
    "def betterBubbleSort(arr):\n",
    "    for i in range(len(arr)): \n",
    "        for j in range(0,len(arr)-1-i):\n",
    "            \n",
    "            if arr[j+1]<arr[j]:\n",
    "                aux = arr[j]\n",
    "                arr[j] = arr[j+1]\n",
    "                arr[j+1]=aux\n",
    "  \n",
    "    return arr\n",
    "'''\n",
    "print(\"Algoritmo BubbleSort Mejorado\")\n",
    "timeit.timeit(stmt2,setup2,number=1)"
   ]
  },
  {
   "cell_type": "code",
   "execution_count": 44,
   "id": "6942584b",
   "metadata": {},
   "outputs": [
    {
     "name": "stdout",
     "output_type": "stream",
     "text": [
      "Algoritmo InsertionSort\n"
     ]
    },
    {
     "data": {
      "text/plain": [
       "269.3764752999996"
      ]
     },
     "execution_count": 44,
     "metadata": {},
     "output_type": "execute_result"
    }
   ],
   "source": [
    "#c. Algoritmo InsertionSort\n",
    "stmt3 = '''\n",
    "import numpy as np\n",
    "arr = np.random.randint(1,30001,30000)\n",
    "insertionSort(arr)\n",
    "'''\n",
    "setup3 = '''\n",
    "def insertionSort(arr):\n",
    "    for i in range(1,len(arr)): \n",
    "        k = arr[i]\n",
    "        j = i-1\n",
    "        while j>0 and arr[j]>k:\n",
    "            arr[j+1]=arr[j]\n",
    "            j = j-1\n",
    "        \n",
    "        arr[j+1]=k\n",
    "            \n",
    "    return arr\n",
    "'''\n",
    "print(\"Algoritmo InsertionSort\")\n",
    "timeit.timeit(stmt2,setup2,number=1)"
   ]
  },
  {
   "cell_type": "code",
   "execution_count": 35,
   "id": "f4549234",
   "metadata": {},
   "outputs": [],
   "source": [
    "#A continuacion usaremos %%timeit para obtener el tiempo de ejecucion junto a la media y desviación estándar de los tres\n",
    "#algoritmos con una entrada de datos arr=30000.\n",
    "#Usamos -r 1 y -n 5 para que ejecute el algoritmo 5 veces.\n",
    "import numpy as np"
   ]
  },
  {
   "cell_type": "code",
   "execution_count": 39,
   "id": "d81938ef",
   "metadata": {},
   "outputs": [
    {
     "name": "stdout",
     "output_type": "stream",
     "text": [
      "6min 55s ± 0 ns per loop (mean ± std. dev. of 1 run, 5 loops each)\n"
     ]
    }
   ],
   "source": [
    "%%timeit -r 1 -n 5\n",
    "arr = np.random.randint(1,30001,30000)\n",
    "bubbleSort(arr)"
   ]
  },
  {
   "cell_type": "code",
   "execution_count": 40,
   "id": "41e7394c",
   "metadata": {},
   "outputs": [
    {
     "name": "stdout",
     "output_type": "stream",
     "text": [
      "4min 37s ± 0 ns per loop (mean ± std. dev. of 1 run, 5 loops each)\n"
     ]
    }
   ],
   "source": [
    "%%timeit -r 1 -n 5\n",
    "import numpy as np\n",
    "arr = np.random.randint(1,30001,30000)\n",
    "betterBubbleSort(arr)"
   ]
  },
  {
   "cell_type": "code",
   "execution_count": 41,
   "id": "7b0e17ce",
   "metadata": {},
   "outputs": [
    {
     "name": "stdout",
     "output_type": "stream",
     "text": [
      "1min 47s ± 0 ns per loop (mean ± std. dev. of 1 run, 5 loops each)\n"
     ]
    }
   ],
   "source": [
    "%%timeit -r 1 -n 5\n",
    "import numpy as np\n",
    "arr = np.random.randint(1,30001,30000)\n",
    "insertionSort(arr)"
   ]
  },
  {
   "cell_type": "code",
   "execution_count": 42,
   "id": "e9cae71e",
   "metadata": {},
   "outputs": [],
   "source": []
  }
 ],
 "metadata": {
  "kernelspec": {
   "display_name": "Python 3",
   "language": "python",
   "name": "python3"
  },
  "language_info": {
   "codemirror_mode": {
    "name": "ipython",
    "version": 3
   },
   "file_extension": ".py",
   "mimetype": "text/x-python",
   "name": "python",
   "nbconvert_exporter": "python",
   "pygments_lexer": "ipython3",
   "version": "3.8.8"
  }
 },
 "nbformat": 4,
 "nbformat_minor": 5
}
